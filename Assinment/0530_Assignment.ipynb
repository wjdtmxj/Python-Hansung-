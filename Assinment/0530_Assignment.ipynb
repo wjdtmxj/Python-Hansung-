{
 "cells": [
  {
   "cell_type": "markdown",
   "metadata": {},
   "source": [
    "# Assignment of 0530_ 정찬연\n",
    "### 0-9칼럼 = 사람별 점수 set\n",
    "### 10 칼럼 = 정답\n",
    "### 0-19 행 = 객관식\n",
    "### 21-22행 = 주관식\n",
    "1. 마지막 칼럼을 answer에 대입\n",
    "2. 나머지를 score\n",
    "3. score 중에서 정답 True, 오답 False\n",
    "* 정답을 -> answer\n",
    "* 객관식 답안 -> dset\n",
    "* dset중 정답 = True, 오답 = False\n",
    "4. 각 사람의 객관심 점수 4점 (true의 개수 센 후 x4, 점수계산)\n",
    "5. numpy dot 연산 이용해 사람별 점수 계산"
   ]
  },
  {
   "cell_type": "code",
   "execution_count": 27,
   "metadata": {},
   "outputs": [],
   "source": [
    "import numpy as np"
   ]
  },
  {
   "cell_type": "code",
   "execution_count": 28,
   "metadata": {},
   "outputs": [],
   "source": [
    "score = np.loadtxt('python_score.csv', delimiter=',', dtype = 'float64')"
   ]
  },
  {
   "cell_type": "code",
   "execution_count": 29,
   "metadata": {},
   "outputs": [
    {
     "data": {
      "text/plain": [
       "array([[ 3.,  3.,  4.,  3.,  3.,  3.,  3.,  3.,  3.,  3.,  3.],\n",
       "       [ 4.,  4.,  4.,  4.,  4.,  3.,  4.,  4.,  2.,  2.,  4.],\n",
       "       [ 1.,  1.,  1.,  1.,  1.,  1.,  1.,  1.,  1.,  1.,  1.],\n",
       "       [ 1.,  1.,  1.,  1.,  1.,  1.,  1.,  1.,  2.,  1.,  1.],\n",
       "       [ 2.,  2.,  3.,  2.,  4.,  2.,  2.,  4.,  4.,  2.,  2.],\n",
       "       [ 2.,  4.,  2.,  4.,  2.,  2.,  2.,  2.,  4.,  2.,  2.],\n",
       "       [ 1.,  1.,  1.,  1.,  1.,  1.,  1.,  1.,  1.,  1.,  1.],\n",
       "       [ 4.,  4.,  4.,  4.,  4.,  4.,  4.,  4.,  4.,  4.,  4.],\n",
       "       [ 4.,  4.,  4.,  4.,  4.,  4.,  4.,  4.,  4.,  2.,  4.],\n",
       "       [ 2.,  2.,  2.,  2.,  2.,  2.,  2.,  2.,  2.,  2.,  2.],\n",
       "       [ 4.,  3.,  4.,  4.,  2.,  4.,  4.,  4.,  4.,  4.,  4.],\n",
       "       [ 3.,  3.,  3.,  2.,  3.,  3.,  3.,  3.,  3.,  3.,  3.],\n",
       "       [ 3.,  3.,  3.,  3.,  3.,  3.,  3.,  3.,  3.,  3.,  3.],\n",
       "       [ 3.,  2.,  3.,  3.,  3.,  3.,  1.,  3.,  3.,  3.,  3.],\n",
       "       [ 2.,  2.,  4.,  2.,  2.,  2.,  2.,  2.,  2.,  2.,  2.],\n",
       "       [ 2.,  2.,  2.,  1.,  1.,  2.,  2.,  2.,  2.,  2.,  2.],\n",
       "       [ 1.,  1.,  1.,  1.,  1.,  1.,  1.,  1.,  2.,  1.,  1.],\n",
       "       [ 2.,  2.,  2.,  2.,  2.,  2.,  2.,  2.,  4.,  2.,  2.],\n",
       "       [ 2.,  2.,  4.,  2.,  2.,  2.,  2.,  2.,  2.,  2.,  2.],\n",
       "       [ 2.,  1.,  2.,  4.,  4.,  2.,  3.,  2.,  1.,  3.,  2.],\n",
       "       [ 9.,  4., 10.,  9.,  6.,  8., 10.,  7.,  6.,  9., 10.],\n",
       "       [ 5.,  7.,  8.,  5.,  7.,  8.,  6.,  8.,  9., 10., 10.]])"
      ]
     },
     "execution_count": 29,
     "metadata": {},
     "output_type": "execute_result"
    }
   ],
   "source": [
    "score"
   ]
  },
  {
   "cell_type": "code",
   "execution_count": 30,
   "metadata": {},
   "outputs": [],
   "source": [
    "answer = score[:20,-1]\n",
    "# 각 문제의 정답 "
   ]
  },
  {
   "cell_type": "code",
   "execution_count": 31,
   "metadata": {},
   "outputs": [
    {
     "data": {
      "text/plain": [
       "array([3., 4., 1., 1., 2., 2., 1., 4., 4., 2., 4., 3., 3., 3., 2., 2., 1.,\n",
       "       2., 2., 2.])"
      ]
     },
     "execution_count": 31,
     "metadata": {},
     "output_type": "execute_result"
    }
   ],
   "source": [
    "answer"
   ]
  },
  {
   "cell_type": "code",
   "execution_count": 32,
   "metadata": {},
   "outputs": [],
   "source": [
    "dset = score[:20,:10].T\n",
    "#객관식 답안 도출"
   ]
  },
  {
   "cell_type": "code",
   "execution_count": 33,
   "metadata": {},
   "outputs": [
    {
     "data": {
      "text/plain": [
       "array([[3., 4., 1., 1., 2., 2., 1., 4., 4., 2., 4., 3., 3., 3., 2., 2.,\n",
       "        1., 2., 2., 2.],\n",
       "       [3., 4., 1., 1., 2., 4., 1., 4., 4., 2., 3., 3., 3., 2., 2., 2.,\n",
       "        1., 2., 2., 1.],\n",
       "       [4., 4., 1., 1., 3., 2., 1., 4., 4., 2., 4., 3., 3., 3., 4., 2.,\n",
       "        1., 2., 4., 2.],\n",
       "       [3., 4., 1., 1., 2., 4., 1., 4., 4., 2., 4., 2., 3., 3., 2., 1.,\n",
       "        1., 2., 2., 4.],\n",
       "       [3., 4., 1., 1., 4., 2., 1., 4., 4., 2., 2., 3., 3., 3., 2., 1.,\n",
       "        1., 2., 2., 4.],\n",
       "       [3., 3., 1., 1., 2., 2., 1., 4., 4., 2., 4., 3., 3., 3., 2., 2.,\n",
       "        1., 2., 2., 2.],\n",
       "       [3., 4., 1., 1., 2., 2., 1., 4., 4., 2., 4., 3., 3., 1., 2., 2.,\n",
       "        1., 2., 2., 3.],\n",
       "       [3., 4., 1., 1., 4., 2., 1., 4., 4., 2., 4., 3., 3., 3., 2., 2.,\n",
       "        1., 2., 2., 2.],\n",
       "       [3., 2., 1., 2., 4., 4., 1., 4., 4., 2., 4., 3., 3., 3., 2., 2.,\n",
       "        2., 4., 2., 1.],\n",
       "       [3., 2., 1., 1., 2., 2., 1., 4., 2., 2., 4., 3., 3., 3., 2., 2.,\n",
       "        1., 2., 2., 3.]])"
      ]
     },
     "execution_count": 33,
     "metadata": {},
     "output_type": "execute_result"
    }
   ],
   "source": [
    "dset"
   ]
  },
  {
   "cell_type": "code",
   "execution_count": 34,
   "metadata": {},
   "outputs": [],
   "source": [
    "bool_dset = (dset == answer)\n",
    "# 정답과 비교하여 True, False 나누기"
   ]
  },
  {
   "cell_type": "code",
   "execution_count": 35,
   "metadata": {},
   "outputs": [
    {
     "data": {
      "text/plain": [
       "array([[ True,  True,  True,  True,  True,  True,  True,  True,  True,\n",
       "         True,  True,  True,  True,  True,  True,  True,  True,  True,\n",
       "         True,  True],\n",
       "       [ True,  True,  True,  True,  True, False,  True,  True,  True,\n",
       "         True, False,  True,  True, False,  True,  True,  True,  True,\n",
       "         True, False],\n",
       "       [False,  True,  True,  True, False,  True,  True,  True,  True,\n",
       "         True,  True,  True,  True,  True, False,  True,  True,  True,\n",
       "        False,  True],\n",
       "       [ True,  True,  True,  True,  True, False,  True,  True,  True,\n",
       "         True,  True, False,  True,  True,  True, False,  True,  True,\n",
       "         True, False],\n",
       "       [ True,  True,  True,  True, False,  True,  True,  True,  True,\n",
       "         True, False,  True,  True,  True,  True, False,  True,  True,\n",
       "         True, False],\n",
       "       [ True, False,  True,  True,  True,  True,  True,  True,  True,\n",
       "         True,  True,  True,  True,  True,  True,  True,  True,  True,\n",
       "         True,  True],\n",
       "       [ True,  True,  True,  True,  True,  True,  True,  True,  True,\n",
       "         True,  True,  True,  True, False,  True,  True,  True,  True,\n",
       "         True, False],\n",
       "       [ True,  True,  True,  True, False,  True,  True,  True,  True,\n",
       "         True,  True,  True,  True,  True,  True,  True,  True,  True,\n",
       "         True,  True],\n",
       "       [ True, False,  True, False, False, False,  True,  True,  True,\n",
       "         True,  True,  True,  True,  True,  True,  True, False, False,\n",
       "         True, False],\n",
       "       [ True, False,  True,  True,  True,  True,  True,  True, False,\n",
       "         True,  True,  True,  True,  True,  True,  True,  True,  True,\n",
       "         True, False]])"
      ]
     },
     "execution_count": 35,
     "metadata": {},
     "output_type": "execute_result"
    }
   ],
   "source": [
    "bool_dset"
   ]
  },
  {
   "cell_type": "code",
   "execution_count": 36,
   "metadata": {},
   "outputs": [
    {
     "data": {
      "text/plain": [
       "array([[1., 1., 1., 1., 1., 1., 1., 1., 1., 1., 1., 1., 1., 1., 1., 1.,\n",
       "        1., 1., 1., 1.],\n",
       "       [1., 1., 1., 1., 1., 0., 1., 1., 1., 1., 0., 1., 1., 0., 1., 1.,\n",
       "        1., 1., 1., 0.],\n",
       "       [0., 1., 1., 1., 0., 1., 1., 1., 1., 1., 1., 1., 1., 1., 0., 1.,\n",
       "        1., 1., 0., 1.],\n",
       "       [1., 1., 1., 1., 1., 0., 1., 1., 1., 1., 1., 0., 1., 1., 1., 0.,\n",
       "        1., 1., 1., 0.],\n",
       "       [1., 1., 1., 1., 0., 1., 1., 1., 1., 1., 0., 1., 1., 1., 1., 0.,\n",
       "        1., 1., 1., 0.],\n",
       "       [1., 0., 1., 1., 1., 1., 1., 1., 1., 1., 1., 1., 1., 1., 1., 1.,\n",
       "        1., 1., 1., 1.],\n",
       "       [1., 1., 1., 1., 1., 1., 1., 1., 1., 1., 1., 1., 1., 0., 1., 1.,\n",
       "        1., 1., 1., 0.],\n",
       "       [1., 1., 1., 1., 0., 1., 1., 1., 1., 1., 1., 1., 1., 1., 1., 1.,\n",
       "        1., 1., 1., 1.],\n",
       "       [1., 0., 1., 0., 0., 0., 1., 1., 1., 1., 1., 1., 1., 1., 1., 1.,\n",
       "        0., 0., 1., 0.],\n",
       "       [1., 0., 1., 1., 1., 1., 1., 1., 0., 1., 1., 1., 1., 1., 1., 1.,\n",
       "        1., 1., 1., 0.]])"
      ]
     },
     "execution_count": 36,
     "metadata": {},
     "output_type": "execute_result"
    }
   ],
   "source": [
    "dset[dset!=answer]=0\n",
    "dset[dset!=0]=1\n",
    "dset\n",
    "# 정답과 답안이 맞지 않을경우 숫자 0 으로 변환 (이유는 답안지에 이미 1이 있어 겹치는 부분이 있어 답변에 없는 숫자를 사용)\n",
    "# 그후 0을 다시 1로 변환 "
   ]
  },
  {
   "cell_type": "code",
   "execution_count": 37,
   "metadata": {},
   "outputs": [
    {
     "data": {
      "text/plain": [
       "array([[ 1.,  1.,  0.,  1.,  1.,  1.,  1.,  1.,  1.,  1.,  3.],\n",
       "       [ 1.,  1.,  1.,  1.,  1.,  0.,  1.,  1.,  0.,  0.,  4.],\n",
       "       [ 1.,  1.,  1.,  1.,  1.,  1.,  1.,  1.,  1.,  1.,  1.],\n",
       "       [ 1.,  1.,  1.,  1.,  1.,  1.,  1.,  1.,  0.,  1.,  1.],\n",
       "       [ 1.,  1.,  0.,  1.,  0.,  1.,  1.,  0.,  0.,  1.,  2.],\n",
       "       [ 1.,  0.,  1.,  0.,  1.,  1.,  1.,  1.,  0.,  1.,  2.],\n",
       "       [ 1.,  1.,  1.,  1.,  1.,  1.,  1.,  1.,  1.,  1.,  1.],\n",
       "       [ 1.,  1.,  1.,  1.,  1.,  1.,  1.,  1.,  1.,  1.,  4.],\n",
       "       [ 1.,  1.,  1.,  1.,  1.,  1.,  1.,  1.,  1.,  0.,  4.],\n",
       "       [ 1.,  1.,  1.,  1.,  1.,  1.,  1.,  1.,  1.,  1.,  2.],\n",
       "       [ 1.,  0.,  1.,  1.,  0.,  1.,  1.,  1.,  1.,  1.,  4.],\n",
       "       [ 1.,  1.,  1.,  0.,  1.,  1.,  1.,  1.,  1.,  1.,  3.],\n",
       "       [ 1.,  1.,  1.,  1.,  1.,  1.,  1.,  1.,  1.,  1.,  3.],\n",
       "       [ 1.,  0.,  1.,  1.,  1.,  1.,  0.,  1.,  1.,  1.,  3.],\n",
       "       [ 1.,  1.,  0.,  1.,  1.,  1.,  1.,  1.,  1.,  1.,  2.],\n",
       "       [ 1.,  1.,  1.,  0.,  0.,  1.,  1.,  1.,  1.,  1.,  2.],\n",
       "       [ 1.,  1.,  1.,  1.,  1.,  1.,  1.,  1.,  0.,  1.,  1.],\n",
       "       [ 1.,  1.,  1.,  1.,  1.,  1.,  1.,  1.,  0.,  1.,  2.],\n",
       "       [ 1.,  1.,  0.,  1.,  1.,  1.,  1.,  1.,  1.,  1.,  2.],\n",
       "       [ 1.,  0.,  1.,  0.,  0.,  1.,  0.,  1.,  0.,  0.,  2.],\n",
       "       [ 9.,  4., 10.,  9.,  6.,  8., 10.,  7.,  6.,  9., 10.],\n",
       "       [ 5.,  7.,  8.,  5.,  7.,  8.,  6.,  8.,  9., 10., 10.]])"
      ]
     },
     "execution_count": 37,
     "metadata": {},
     "output_type": "execute_result"
    }
   ],
   "source": [
    "score"
   ]
  },
  {
   "cell_type": "code",
   "execution_count": 38,
   "metadata": {},
   "outputs": [],
   "source": [
    "lst = [4]*20"
   ]
  },
  {
   "cell_type": "code",
   "execution_count": 39,
   "metadata": {},
   "outputs": [
    {
     "data": {
      "text/plain": [
       "[4, 4, 4, 4, 4, 4, 4, 4, 4, 4, 4, 4, 4, 4, 4, 4, 4, 4, 4, 4, 1, 1]"
      ]
     },
     "execution_count": 39,
     "metadata": {},
     "output_type": "execute_result"
    }
   ],
   "source": [
    "s = lst + [1,1]\n",
    "s"
   ]
  },
  {
   "cell_type": "code",
   "execution_count": 44,
   "metadata": {},
   "outputs": [
    {
     "data": {
      "text/plain": [
       "array([[ 1.,  1.,  1.,  1.,  1.,  1.,  1.,  1.,  1.,  1.,  1.,  1.,  1.,\n",
       "         1.,  1.,  1.,  1.,  1.,  1.,  1.,  9.,  5.],\n",
       "       [ 1.,  1.,  1.,  1.,  1.,  0.,  1.,  1.,  1.,  1.,  0.,  1.,  1.,\n",
       "         0.,  1.,  1.,  1.,  1.,  1.,  0.,  4.,  7.],\n",
       "       [ 0.,  1.,  1.,  1.,  0.,  1.,  1.,  1.,  1.,  1.,  1.,  1.,  1.,\n",
       "         1.,  0.,  1.,  1.,  1.,  0.,  1., 10.,  8.],\n",
       "       [ 1.,  1.,  1.,  1.,  1.,  0.,  1.,  1.,  1.,  1.,  1.,  0.,  1.,\n",
       "         1.,  1.,  0.,  1.,  1.,  1.,  0.,  9.,  5.],\n",
       "       [ 1.,  1.,  1.,  1.,  0.,  1.,  1.,  1.,  1.,  1.,  0.,  1.,  1.,\n",
       "         1.,  1.,  0.,  1.,  1.,  1.,  0.,  6.,  7.],\n",
       "       [ 1.,  0.,  1.,  1.,  1.,  1.,  1.,  1.,  1.,  1.,  1.,  1.,  1.,\n",
       "         1.,  1.,  1.,  1.,  1.,  1.,  1.,  8.,  8.],\n",
       "       [ 1.,  1.,  1.,  1.,  1.,  1.,  1.,  1.,  1.,  1.,  1.,  1.,  1.,\n",
       "         0.,  1.,  1.,  1.,  1.,  1.,  0., 10.,  6.],\n",
       "       [ 1.,  1.,  1.,  1.,  0.,  1.,  1.,  1.,  1.,  1.,  1.,  1.,  1.,\n",
       "         1.,  1.,  1.,  1.,  1.,  1.,  1.,  7.,  8.],\n",
       "       [ 1.,  0.,  1.,  0.,  0.,  0.,  1.,  1.,  1.,  1.,  1.,  1.,  1.,\n",
       "         1.,  1.,  1.,  0.,  0.,  1.,  0.,  6.,  9.],\n",
       "       [ 1.,  0.,  1.,  1.,  1.,  1.,  1.,  1.,  0.,  1.,  1.,  1.,  1.,\n",
       "         1.,  1.,  1.,  1.,  1.,  1.,  0.,  9., 10.]])"
      ]
     },
     "execution_count": 44,
     "metadata": {},
     "output_type": "execute_result"
    }
   ],
   "source": [
    "a = score[:,:-1].T\n",
    "a\n",
    "#스코어 값을 transpose해줌으로 인하여 스코어 행 열 변환"
   ]
  },
  {
   "cell_type": "code",
   "execution_count": 46,
   "metadata": {},
   "outputs": [],
   "source": [
    "x =np.dot(a,s)\n",
    "#dot을 통하여 맞은 객관식과 주관식 점수를 합산한 총점 도출 "
   ]
  },
  {
   "cell_type": "code",
   "execution_count": 48,
   "metadata": {},
   "outputs": [
    {
     "data": {
      "text/plain": [
       "array([94., 75., 82., 78., 77., 92., 88., 91., 67., 87.])"
      ]
     },
     "execution_count": 48,
     "metadata": {},
     "output_type": "execute_result"
    }
   ],
   "source": [
    "x"
   ]
  },
  {
   "cell_type": "code",
   "execution_count": 50,
   "metadata": {},
   "outputs": [
    {
     "name": "stdout",
     "output_type": "stream",
     "text": [
      "1 : 94.0\n",
      "2 : 75.0\n",
      "3 : 82.0\n",
      "4 : 78.0\n",
      "5 : 77.0\n",
      "6 : 92.0\n",
      "7 : 88.0\n",
      "8 : 91.0\n",
      "9 : 67.0\n",
      "10 : 87.0\n"
     ]
    }
   ],
   "source": [
    "for i,v in enumerate(x,1):\n",
    "    print (i,':',v)\n",
    "#보기쉬운 포멧 변경"
   ]
  }
 ],
 "metadata": {
  "kernelspec": {
   "display_name": "Python 3",
   "language": "python",
   "name": "python3"
  },
  "language_info": {
   "codemirror_mode": {
    "name": "ipython",
    "version": 3
   },
   "file_extension": ".py",
   "mimetype": "text/x-python",
   "name": "python",
   "nbconvert_exporter": "python",
   "pygments_lexer": "ipython3",
   "version": "3.6.4"
  }
 },
 "nbformat": 4,
 "nbformat_minor": 2
}
